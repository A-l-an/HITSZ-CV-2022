{
 "cells": [
  {
   "cell_type": "markdown",
   "metadata": {},
   "source": [
    "# Homework 4\n",
    "\n",
    "We have learned about the basics of using machine learning and deep learning for many computer vision problems. In this assignment, we will be building a framework for object classification using PyTorch.\n",
    "\n",
    "Topics you will be learning in this assignment:\n",
    "* Defining datasets in PyTorch;\n",
    "* Defining models in PyTorch;\n",
    "* Specifying the training procedure;\n",
    "* Training and evaluating a model;\n",
    "* Tuning hyper-parameters."
   ]
  },
  {
   "cell_type": "markdown",
   "metadata": {},
   "source": [
    "First of all, you may want to do `pip install torch torchvision` in your environment to install PyTorch."
   ]
  },
  {
   "cell_type": "markdown",
   "metadata": {},
   "source": [
    "## 1. Object classification on CIFAR10 with a simple ConvNet."
   ]
  },
  {
   "cell_type": "markdown",
   "metadata": {},
   "source": [
    "As one of the most famous datasets in computer vision, [CIFAR10](https://www.cs.toronto.edu/~kriz/cifar.html) is an object classfication dataset that consists of 60000 color RGB images in 10 classes, with 6000 images per class. The images are all at a resolution of 32x32. In this section, we will be working out a framework that is able to tell us what object there is in a given image, using a simple Convolution Neural Network."
   ]
  },
  {
   "cell_type": "markdown",
   "metadata": {},
   "source": [
    "### 1.1 Data preparation."
   ]
  },
  {
   "cell_type": "markdown",
   "metadata": {},
   "source": [
    "The most important ingredient in a deep learning recipe is arguably data - what we feed into the model largely determines what we get out of it. In this part, let's prepare our data in a format that will be best useable in the rest of the framework."
   ]
  },
  {
   "cell_type": "markdown",
   "metadata": {},
   "source": [
    "For vision, there's a useful package called `torchvision` that defines data loaders for common datasets as well as various image transformation operations. Let's first load and normalize the training and testing dataset using `torchvision`. "
   ]
  },
  {
   "cell_type": "code",
   "execution_count": 4,
   "metadata": {},
   "outputs": [],
   "source": [
    "import torch\n",
    "import torchvision\n",
    "import torchvision.transforms as transforms\n",
    "import numpy as np\n",
    "import random\n",
    "\n",
    "# set random seeds\n",
    "torch.manual_seed(131)\n",
    "np.random.seed(131)\n",
    "random.seed(131)"
   ]
  },
  {
   "cell_type": "markdown",
   "metadata": {},
   "source": [
    "From this step, you want to create two dataloaders `trainloader` and `testloader` from which we will query our data. You might want to familiarize yourself with PyTorch data structures for this. Specifically, `torch.utils.data.Dataset` and `torch.utils.data.DataLoader` might be helpful here. `torchvision` also provides convenient interfaces for some popular datasets including CIFAR10 (`torchvision.datasets.CIFAR10`), so you may find `torchvision.datasets` helpful too.\n"
   ]
  },
  {
   "cell_type": "markdown",
   "metadata": {},
   "source": [
    "When dealing with image data, oftentimes we need to do some preprocessing to convert the data to the format we need. In this problem, the main preprocessing we need to do is normalization. Specifically, let's normalize the image to have 0.5 mean and 0.5 standard deviation for each of the 3 channels. Feel free to add in other transformations you may find necessary. `torchvision.transforms` is a good point to reference.\n",
    "\n",
    "(You may find `torchvision.transforms.Compose` useful to combine transforms like `torchvision.transforms.ToTensor`, `torchvision.transforms.Normalize` and so on)"
   ]
  },
  {
   "cell_type": "code",
   "execution_count": 5,
   "metadata": {},
   "outputs": [],
   "source": [
    "trainloader = None\n",
    "testloader = None\n",
    "batch_size = 4\n",
    "\n",
    "### YOUR CODE HERE\n",
    "trainloader = torch.utils.data.DataLoader(\n",
    "    torchvision.datasets.CIFAR10(root='./', train=True,\n",
    "                                 transform=torchvision.transforms.Compose([\n",
    "                                     torchvision.transforms.ToTensor(),     # 将PIL Image或numpy.ndarray转换为tensor，并归一化到[0,1]之间\n",
    "                                     torchvision.transforms.Normalize(\n",
    "                                        mean=(0.485, 0.456, 0.406), \n",
    "                                        std=(0.229, 0.224, 0.225))\n",
    "                                 ])),\n",
    "    batch_size=100)\n",
    "testloader = torch.utils.data.DataLoader(\n",
    "    torchvision.datasets.CIFAR10(root='./', train=False,\n",
    "                                 transform=torchvision.transforms.Compose([\n",
    "                                    torchvision.transforms.ToTensor(),\n",
    "                                    torchvision.transforms.Normalize(\n",
    "                                        mean=(0.485, 0.456, 0.406), \n",
    "                                        std=(0.229, 0.224, 0.225))\n",
    "                                 ])),\n",
    "    batch_size=100)\n",
    "### END YOUR CODE\n",
    "\n",
    "# these are the 10 classes we have in CIFAR10\n",
    "classes = ('plane', 'car', 'bird', 'cat',\n",
    "           'deer', 'dog', 'frog', 'horse', 'ship', 'truck')"
   ]
  },
  {
   "cell_type": "markdown",
   "metadata": {},
   "source": [
    "Let's plot out some training images to see what we are dealing with:"
   ]
  },
  {
   "cell_type": "code",
   "execution_count": 6,
   "metadata": {},
   "outputs": [
    {
     "name": "stderr",
     "output_type": "stream",
     "text": [
      "Clipping input data to the valid range for imshow with RGB data ([0..1] for floats or [0..255] for integers).\n"
     ]
    },
    {
     "data": {
      "text/plain": [
       "<Figure size 640x480 with 1 Axes>"
      ]
     },
     "metadata": {},
     "output_type": "display_data"
    },
    {
     "name": "stdout",
     "output_type": "stream",
     "text": [
      " frog truck truck  deer\n"
     ]
    }
   ],
   "source": [
    "import matplotlib.pyplot as plt\n",
    "\n",
    "def imshow(img):\n",
    "    img = img / 2 + 0.5     # unnormalize\n",
    "    npimg = img.numpy()\n",
    "    plt.imshow(np.transpose(npimg, (1, 2, 0)))\n",
    "    plt.show()\n",
    "\n",
    "# get some random training images\n",
    "dataiter = iter(trainloader)\n",
    "images, labels = dataiter.next()\n",
    "\n",
    "# show images\n",
    "imshow(torchvision.utils.make_grid(images))\n",
    "# print labels\n",
    "print(' '.join('%5s' % classes[labels[j]] for j in range(batch_size)))"
   ]
  },
  {
   "cell_type": "markdown",
   "metadata": {},
   "source": [
    "### 1.2 Model definition."
   ]
  },
  {
   "cell_type": "markdown",
   "metadata": {},
   "source": [
    "Now we have the data ready, the next step is to define the model that we want to train on these data. Since CIFAR10 is a small dataset, we'll just build a very simple Convolutional Neural Network for our problem. The architecture of it will be (in order):"
   ]
  },
  {
   "cell_type": "markdown",
   "metadata": {},
   "source": [
    "* 2D convolution: output feature channel number = 6, kernel size = 5x5, stride = 1, no padding;\n",
    "* 2D max pooling: kernel size = 2x2, stride = 2;\n",
    "* 2D convolution: output feature channel number = 16, kernel size = 5x5, stride = 1, no padding;\n",
    "* 2D max pooling: kernel size = 2x2, stride = 2;\n",
    "* Fully-connected layer: output feature channel number = 120;\n",
    "* Fully-connected layer: output feature channel number = 84;\n",
    "* Fully-connected layer: output feature channel number = 10 (number of classes)."
   ]
  },
  {
   "cell_type": "markdown",
   "metadata": {},
   "source": [
    "Implement the `__init__()` and `forward()` functions in `network.py`. As a good practice, `__init__()` generally defines the network architecture and `forward()` takes the runtime input `x` and passes through the network defined in `__init__()`, and returns the output."
   ]
  },
  {
   "cell_type": "code",
   "execution_count": 10,
   "metadata": {},
   "outputs": [],
   "source": [
    "from network import Net\n",
    "\n",
    "net = Net()"
   ]
  },
  {
   "cell_type": "markdown",
   "metadata": {},
   "source": [
    "### 1.3 Loss and optimizer definition."
   ]
  },
  {
   "cell_type": "markdown",
   "metadata": {},
   "source": [
    "Okay we now have the model too! The next step is to train the model on the data we have prepared. But before that , we first need to define a loss function and an optimization procedure, which specifies how well our model does and how the training process is carried out, respectively. We'll be using Cross Entropy loss as our loss function and Stochastic Gradient Descent as our optimization algorithm. We will not cover them in detail here but you are welcome to read more on it. ([this article](https://cs231n.github.io/neural-networks-2/) and [this article](https://cs231n.github.io/optimization-1/) from CS231n would be a great point to start). "
   ]
  },
  {
   "cell_type": "markdown",
   "metadata": {},
   "source": [
    "PyTorch implements very convenient interfaces for loss functions and optimizers, which we have put for you below."
   ]
  },
  {
   "cell_type": "code",
   "execution_count": 11,
   "metadata": {},
   "outputs": [],
   "source": [
    "import torch.optim as optim\n",
    "import torch.nn as nn\n",
    "\n",
    "criterion = nn.CrossEntropyLoss()\n",
    "optimizer = optim.SGD(net.parameters(), lr=0.001, momentum=0.9)"
   ]
  },
  {
   "cell_type": "markdown",
   "metadata": {},
   "source": [
    "### 1.4 Kick start training."
   ]
  },
  {
   "cell_type": "markdown",
   "metadata": {},
   "source": [
    "What we have done so far prepares all the necessary pieces for actual training, and now let's kick start the training process! Running this training block should take several minutes on your CPU."
   ]
  },
  {
   "cell_type": "code",
   "execution_count": 13,
   "metadata": {},
   "outputs": [
    {
     "name": "stdout",
     "output_type": "stream",
     "text": [
      "[1,   100] loss: 0.050\n",
      "[1,   200] loss: 0.031\n",
      "[1,   300] loss: 0.066\n",
      "[1,   400] loss: 0.094\n",
      "[1,   500] loss: 0.075\n",
      "[2,   100] loss: 0.047\n",
      "[2,   200] loss: 0.037\n",
      "[2,   300] loss: 0.038\n",
      "[2,   400] loss: 0.038\n",
      "[2,   500] loss: 0.041\n",
      "[3,   100] loss: 0.030\n",
      "[3,   200] loss: 0.025\n",
      "[3,   300] loss: 0.030\n",
      "[3,   400] loss: 0.033\n",
      "[3,   500] loss: 0.030\n",
      "[4,   100] loss: 0.026\n",
      "[4,   200] loss: 0.020\n",
      "[4,   300] loss: 0.017\n",
      "[4,   400] loss: 0.027\n",
      "[4,   500] loss: 0.023\n",
      "[5,   100] loss: 0.020\n",
      "[5,   200] loss: 0.016\n",
      "[5,   300] loss: 0.014\n",
      "[5,   400] loss: 0.011\n",
      "[5,   500] loss: 0.011\n",
      "[6,   100] loss: 0.008\n",
      "[6,   200] loss: 0.008\n",
      "[6,   300] loss: 0.007\n",
      "[6,   400] loss: 0.007\n",
      "[6,   500] loss: 0.006\n",
      "[7,   100] loss: 0.004\n",
      "[7,   200] loss: 0.002\n",
      "[7,   300] loss: 0.001\n",
      "[7,   400] loss: 0.001\n",
      "[7,   500] loss: 0.001\n",
      "[8,   100] loss: 0.001\n",
      "[8,   200] loss: 0.000\n",
      "[8,   300] loss: 0.000\n",
      "[8,   400] loss: 0.000\n",
      "[8,   500] loss: 0.000\n",
      "[9,   100] loss: 0.000\n",
      "[9,   200] loss: 0.000\n",
      "[9,   300] loss: 0.000\n",
      "[9,   400] loss: 0.000\n",
      "[9,   500] loss: 0.000\n",
      "[10,   100] loss: 0.000\n",
      "[10,   200] loss: 0.000\n",
      "[10,   300] loss: 0.000\n",
      "[10,   400] loss: 0.000\n",
      "[10,   500] loss: 0.000\n",
      "[11,   100] loss: 0.000\n",
      "[11,   200] loss: 0.000\n",
      "[11,   300] loss: 0.000\n",
      "[11,   400] loss: 0.000\n",
      "[11,   500] loss: 0.000\n",
      "[12,   100] loss: 0.000\n",
      "[12,   200] loss: 0.000\n",
      "[12,   300] loss: 0.000\n",
      "[12,   400] loss: 0.000\n",
      "[12,   500] loss: 0.000\n",
      "[13,   100] loss: 0.000\n",
      "[13,   200] loss: 0.000\n",
      "[13,   300] loss: 0.000\n",
      "[13,   400] loss: 0.000\n",
      "[13,   500] loss: 0.000\n",
      "[14,   100] loss: 0.000\n",
      "[14,   200] loss: 0.000\n",
      "[14,   300] loss: 0.000\n",
      "[14,   400] loss: 0.000\n",
      "[14,   500] loss: 0.000\n",
      "[15,   100] loss: 0.000\n",
      "[15,   200] loss: 0.000\n",
      "[15,   300] loss: 0.000\n",
      "[15,   400] loss: 0.000\n",
      "[15,   500] loss: 0.000\n",
      "[16,   100] loss: 0.000\n",
      "[16,   200] loss: 0.000\n",
      "[16,   300] loss: 0.000\n",
      "[16,   400] loss: 0.000\n",
      "[16,   500] loss: 0.000\n",
      "[17,   100] loss: 0.000\n",
      "[17,   200] loss: 0.000\n",
      "[17,   300] loss: 0.000\n",
      "[17,   400] loss: 0.000\n",
      "[17,   500] loss: 0.000\n",
      "[18,   100] loss: 0.000\n",
      "[18,   200] loss: 0.000\n",
      "[18,   300] loss: 0.000\n",
      "[18,   400] loss: 0.000\n",
      "[18,   500] loss: 0.000\n",
      "[19,   100] loss: 0.000\n",
      "[19,   200] loss: 0.000\n",
      "[19,   300] loss: 0.000\n",
      "[19,   400] loss: 0.000\n",
      "[19,   500] loss: 0.000\n",
      "[20,   100] loss: 0.000\n",
      "[20,   200] loss: 0.000\n",
      "[20,   300] loss: 0.000\n",
      "[20,   400] loss: 0.000\n",
      "[20,   500] loss: 0.000\n",
      "Finished Training\n"
     ]
    }
   ],
   "source": [
    "epoch_num = 20\n",
    "for epoch in range(epoch_num):  # loop over the dataset multiple times\n",
    "\n",
    "    running_loss = 0.0\n",
    "    for i, data in enumerate(trainloader, 0):\n",
    "        # get the inputs; data is a list of [inputs, labels]\n",
    "        inputs, labels = data\n",
    "\n",
    "        # zero the parameter gradients\n",
    "        optimizer.zero_grad()\n",
    "\n",
    "        # forward + backward + optimize\n",
    "        outputs = net(inputs)\n",
    "        loss = criterion(outputs, labels)\n",
    "        loss.backward()\n",
    "        optimizer.step()\n",
    "\n",
    "        # print statistics\n",
    "        running_loss += loss.item()\n",
    "        if i % 100 == 99:    # print every 100 mini-batches\n",
    "            print('[%d, %5d] loss: %.3f' %\n",
    "                  (epoch + 1, i + 1, running_loss / 100))\n",
    "            running_loss = 0.0\n",
    "\n",
    "print('Finished Training')"
   ]
  },
  {
   "cell_type": "markdown",
   "metadata": {},
   "source": [
    "The last step of training is to save the trained model locally to a checkpoint:"
   ]
  },
  {
   "cell_type": "code",
   "execution_count": 14,
   "metadata": {},
   "outputs": [],
   "source": [
    "PATH = './cifar_net.pth'\n",
    "torch.save(net.state_dict(), PATH)"
   ]
  },
  {
   "cell_type": "markdown",
   "metadata": {},
   "source": [
    "### 1.5 Test the trained model on the test data."
   ]
  },
  {
   "cell_type": "markdown",
   "metadata": {},
   "source": [
    "Remember earlier we split the data into training and testing set? Now we'll be using the testing split to see how our model performs on unseen data. We'll check this by predicting the class label that the neural network outputs, and comparing it against the ground-truth."
   ]
  },
  {
   "cell_type": "markdown",
   "metadata": {},
   "source": [
    "Let's first examine some data from the testing set:"
   ]
  },
  {
   "cell_type": "code",
   "execution_count": 15,
   "metadata": {},
   "outputs": [
    {
     "name": "stderr",
     "output_type": "stream",
     "text": [
      "Clipping input data to the valid range for imshow with RGB data ([0..1] for floats or [0..255] for integers).\n"
     ]
    },
    {
     "data": {
      "image/png": "[encoded data removed]",
      "text/plain": [
       "<Figure size 432x288 with 1 Axes>"
      ]
     },
     "metadata": {
      "needs_background": "light"
     },
     "output_type": "display_data"
    },
    {
     "name": "stdout",
     "output_type": "stream",
     "text": [
      "GroundTruth:    cat  ship  ship plane\n"
     ]
    }
   ],
   "source": [
    "dataiter = iter(testloader)\n",
    "images, labels = dataiter.next()\n",
    "\n",
    "# print images\n",
    "imshow(torchvision.utils.make_grid(images))\n",
    "print('GroundTruth: ', ' '.join('%5s' % classes[labels[j]] for j in range(4)))"
   ]
  },
  {
   "cell_type": "markdown",
   "metadata": {},
   "source": [
    "Now, let's load in our saved model checkpoint and get its output:"
   ]
  },
  {
   "cell_type": "code",
   "execution_count": 16,
   "metadata": {},
   "outputs": [
    {
     "data": {
      "text/plain": [
       "<All keys matched successfully>"
      ]
     },
     "execution_count": 16,
     "metadata": {},
     "output_type": "execute_result"
    }
   ],
   "source": [
    "# load in model checkpoint\n",
    "net = Net()\n",
    "net.load_state_dict(torch.load(PATH))"
   ]
  },
  {
   "cell_type": "code",
   "execution_count": 27,
   "metadata": {},
   "outputs": [
    {
     "name": "stdout",
     "output_type": "stream",
     "text": [
      "Predicted:    cat  ship  ship plane\n"
     ]
    }
   ],
   "source": [
    "# First, get the output from the model by passing in `images`;\n",
    "# Next, think about what the model outputs mean / represent, and convert it to the predicted class index (`predicted`);\n",
    "# Finally, output the predicted class label (already done for you).\n",
    "\n",
    "predicted = []\n",
    "### YOUR CODE HERE\n",
    "outputs = net(images)\n",
    "tensor, index = torch.max(outputs, 1)\n",
    "index = index.tolist()\n",
    "### END YOUR CODE\n",
    "print('Predicted: ', ' '.join('%5s' % classes[index[j]]\n",
    "                              for j in range(4)))"
   ]
  },
  {
   "cell_type": "markdown",
   "metadata": {},
   "source": [
    "Besides inspecting these several examples, let's also look at how the network performs on the entire testing set by calculating the percentage of correctly classified examples."
   ]
  },
  {
   "cell_type": "code",
   "execution_count": 31,
   "metadata": {},
   "outputs": [
    {
     "name": "stdout",
     "output_type": "stream",
     "text": [
      "Accuracy of the network on the 10000 test images: 81 %\n"
     ]
    }
   ],
   "source": [
    "correct = 0\n",
    "total = 0\n",
    "# since we're not training, we don't need to calculate the gradients for our outputs\n",
    "with torch.no_grad():\n",
    "    for data in testloader:\n",
    "        images, labels = data\n",
    "        # Similar to the previous question, calculate model's output and the percentage as correct / total\n",
    "        ### YOUR CODE HERE\n",
    "        outputs = net(images)\n",
    "        index = torch.max(outputs, 1)[1]\n",
    "        total += labels.size(0)         # Batch size\n",
    "        correct += (index == labels).sum()\n",
    "        ### END YOUR CODE\n",
    "\n",
    "print('Accuracy of the network on the 10000 test images: %d %%' % (\n",
    "    100 * correct / total))"
   ]
  },
  {
   "cell_type": "markdown",
   "metadata": {},
   "source": [
    "What accuracy did you get? Compared to random guessing, does your model perform significantly better?"
   ]
  },
  {
   "cell_type": "markdown",
   "metadata": {},
   "source": [
    "**You answer here:** Write your answer in this markdown cell.\n",
    "> Yes, the predictions of my my model are much better than the random guessing, 81% VS 10%.\n"
   ]
  },
  {
   "cell_type": "markdown",
   "metadata": {},
   "source": [
    "Let's do some analysis to gain more insights of the results. One analysis we can carry out is the accuracy for each class, which can tell us what classes our model did well, and what classes our model did poorly."
   ]
  },
  {
   "cell_type": "code",
   "execution_count": 32,
   "metadata": {
    "scrolled": true
   },
   "outputs": [
    {
     "name": "stdout",
     "output_type": "stream",
     "text": [
      "Accuracy for class plane is: 85.2 %\n",
      "Accuracy for class car   is: 90.5 %\n",
      "Accuracy for class bird  is: 72.1 %\n",
      "Accuracy for class cat   is: 64.6 %\n",
      "Accuracy for class deer  is: 79.8 %\n",
      "Accuracy for class dog   is: 73.6 %\n",
      "Accuracy for class frog  is: 86.8 %\n",
      "Accuracy for class horse is: 85.7 %\n",
      "Accuracy for class ship  is: 89.4 %\n",
      "Accuracy for class truck is: 87.2 %\n"
     ]
    }
   ],
   "source": [
    "# prepare to count predictions for each class\n",
    "correct_pred = {classname: 0 for classname in classes}\n",
    "total_pred = {classname: 0 for classname in classes}\n",
    "\n",
    "with torch.no_grad():\n",
    "    for data in testloader:\n",
    "        images, labels = data\n",
    "        # repeat what you did previously, but now for each class\n",
    "        ### YOUR CODE HERE\n",
    "        outputs = net(images)\n",
    "        index = torch.max(outputs, 1)[1]\n",
    "        for i in range(len(index)):\n",
    "            total_pred[classes[labels[i]]] += 1\n",
    "            if index[i] == labels[i]:\n",
    "                correct_pred[classes[labels[i]]] += 1\n",
    "        ### END YOUR CODE\n",
    "\n",
    "# print accuracy for each class\n",
    "for classname, correct_count in correct_pred.items():\n",
    "    accuracy = 100 * float(correct_count) / total_pred[classname]\n",
    "    print(\"Accuracy for class {:5s} is: {:.1f} %\".format(classname,\n",
    "                                                   accuracy))"
   ]
  },
  {
   "cell_type": "markdown",
   "metadata": {},
   "source": [
    "### 1.6 Hyper-parameter tuning."
   ]
  },
  {
   "cell_type": "markdown",
   "metadata": {},
   "source": [
    "An important phase in deep learning framework is hyper-parameter search. Hyper-parameters generally refer to those parameters that are **not** automatically optimized during the learning process, e.g., model architecture, optimizer, learning rate, batch size, training length, etc. Tuning these hyper-parameters could often lead to significant improvement of your model performance."
   ]
  },
  {
   "cell_type": "markdown",
   "metadata": {},
   "source": [
    "Your job in this section is to identify the hyper-parameters and tune them to improve the model performance. You might want to refer to PyTorch documentation or other online resources to gain an understanding of what these hyper-parameters mean. Some of the options you might want to look into are:\n",
    "* Model architecture (number of layers, layer size, feature number, etc.);\n",
    "* Loss and optimizer (including loss function, regularization, learning rate, learning rate decay, etc.);\n",
    "* Training configuration (batch size, epoch number, etc.).\n",
    "These are by no means a complete list, but is supposed to give you an idea of the hyper-parameters. You are encouraged to identify and tune more."
   ]
  },
  {
   "cell_type": "markdown",
   "metadata": {},
   "source": [
    "Report in detail what you did in this section. Which of them improved model performance, and which did not?"
   ]
  },
  {
   "cell_type": "markdown",
   "metadata": {},
   "source": [
    "**You answer here:** Write your answer in this markdown cell.\n",
    "> 1. I choose `torch.utils.data.DataLoader` to load in the training & testing data.\n",
    "> 2. I use `torchvision.datasets.CIFAR10` to do images preprocessing, and use `torchvision.transforms.Compose` to do some transformation (e.g. normalization)\n",
    "> 3. It is worth mentioning that the values of mean&std parameters in normalization are randomly sampled from the sample as a representative.\n",
    "> 4. Regarding the structure of the network, I followed the instructions specified in the textbook.\n",
    "> 5. During the training phase, I decided to modify the frequency of printing the statistical probabilities, i.e. print every 100 mini-batches, since it was running too slowly and no information was displayed.\n",
    "> 6. Observed the printed training loss, I found that epoch_num adjusted to 8 is adequate compared to the original 20."
   ]
  }
 ],
 "metadata": {
  "interpreter": {
   "hash": "4c7cdafb94e60c850341d6917725e52d3ec28e5b0476736cec36c8b6aa3f2890"
  },
  "kernelspec": {
   "display_name": "Python 3.6.13 ('AI_ex')",
   "language": "python",
   "name": "python3"
  },
  "language_info": {
   "codemirror_mode": {
    "name": "ipython",
    "version": 3
   },
   "file_extension": ".py",
   "mimetype": "text/x-python",
   "name": "python",
   "nbconvert_exporter": "python",
   "pygments_lexer": "ipython3",
   "version": "3.6.13"
  }
 },
 "nbformat": 4,
 "nbformat_minor": 4
}
